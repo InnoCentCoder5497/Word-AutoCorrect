{
 "metadata": {
  "language_info": {
   "codemirror_mode": {
    "name": "ipython",
    "version": 3
   },
   "file_extension": ".py",
   "mimetype": "text/x-python",
   "name": "python",
   "nbconvert_exporter": "python",
   "pygments_lexer": "ipython3",
   "version": "3.8.3-final"
  },
  "orig_nbformat": 2,
  "kernelspec": {
   "name": "python_defaultSpec_1595825784760",
   "display_name": "Python 3.8.3 64-bit ('torchenv': conda)"
  }
 },
 "nbformat": 4,
 "nbformat_minor": 2,
 "cells": [
  {
   "cell_type": "code",
   "execution_count": 1,
   "metadata": {
    "tags": []
   },
   "outputs": [],
   "source": [
    "import json\n",
    "import re\n",
    "import os\n",
    "\n",
    "BASE_DIR = \"D:\\\\fb\\\\messages\\\\inbox\\\\MelBee_cJJkIq94Fg\""
   ]
  },
  {
   "cell_type": "code",
   "execution_count": 2,
   "metadata": {},
   "outputs": [],
   "source": [
    "with open(os.path.join(BASE_DIR, \"message_1.json\"), \"r\") as f:\n",
    "    data = json.load(f)"
   ]
  },
  {
   "cell_type": "code",
   "execution_count": 3,
   "metadata": {},
   "outputs": [],
   "source": [
    "def clean_text(text):\n",
    "    text = text.strip()\n",
    "    text = re.sub(\"([.,!?():])\", r' ', text)\n",
    "    text = text.replace(\"\\n\", \"\")\n",
    "    return re.sub(r' +', r' ', text)"
   ]
  },
  {
   "cell_type": "code",
   "execution_count": 4,
   "metadata": {
    "tags": []
   },
   "outputs": [],
   "source": [
    "contents = []\n",
    "\n",
    "for m in data[\"messages\"]:\n",
    "    content = m.get(\"content\", None)\n",
    "    sender = \"Sahil Aggrawal\"\n",
    "    s = m.get(\"sender_name\", \"Default\")\n",
    "\n",
    "    if content and s == sender:\n",
    "        text = content.encode('ascii', 'ignore').decode('ascii')\n",
    "        html = re.sub(r\"https?://.+\", r\"\", text)\n",
    "        if len(html.split()) > 2:\n",
    "            contents.append(clean_text(html.lower().strip()))"
   ]
  },
  {
   "cell_type": "code",
   "execution_count": 5,
   "metadata": {
    "tags": []
   },
   "outputs": [
    {
     "output_type": "stream",
     "name": "stdout",
     "text": "0 2nd one is going to take some time\n1 1st render complete\n2 just 10 mins\n3 hope you you like it\n4 gonna send you couple of pics i made\n5 babe am almost done\n6 i will try my best to make an amazing portrait of you\n7 you the best\n8 i was wondering if you could send me a pic of yours which i could try to recreate\n9 hi babe listen i was learning some digital art in this horrible time to protect myself from boredom \n10 updated added new chapter\n11 1 year saari books khol daali\n12 thanku so much\n13 just over 1k\n14 psu me jaise post nikalegi tab pta chalega interview ka\n15 me direct interview me jaunga\n16 abhi apply karunga actually mera gate clear hua hai to ab mujhe kahi b paper dene ki zarurat nahi\n17 nope bs paper clear hua hai abhi interview hone hai\n18 that's the fun na apne man se kuch b likho jaise marzi\n19 vocabulary doesn't matter yr me khud bhot weird wording likhta hu\n20 in future am planning to allow people to write on my blog will you be interested to write \n21 me apne har social pe stories daal deta hu everytime i update my blog\n22 at my blog complete nahi hai post jaise jaise read karunga book waise waise update karta rahunga\n23 learn the most simplest yet surprisingly powerful machine learning algorithm the univariate linear regression \n24 machine learning can do wonderful things but how do these algorithms learn understand the most fundamental yet most important idea of optimization in my new post \n25 understand how machine learning is changing our day to day life \n26 please visit and give feedback on site \n27 and tell me if you think of any improvements \n28 can you just go through the site \n29 need a little help\n30 you sent an attachment \n31 enjoy your day babe\n32 happy new year\n33 you waved at mel \n34 add my number babe\n35 +91 94662 51645\n36 how are you\n37 again it's all up to you if you want then only do it but considering these is important\n38 like b pharm b tech in biotechnology bds etc\n39 as i said any course related to medical\n40 consider b pharma b tech in biotechnology bds or something like this\n41 don't get me wrong but maybe mbbs is not for you i know that you are very passionate about it been trying for couple of years very hard but i would say staying in this very state might become dangerous for you in future\n42 and u know i would suggest you to change your mind about the stream you are choosing\n43 your life is as beautiful as you are\n44 don't say that babe\n45 like are you a regular reader for different books and like have a membership for public library\n46 do you read \n47 bye take care\n48 i better go\n49 sry probably rums getting on my mind\n50 i wish that you become happy as much as you can even if i have to negotiate my life for your happiness\n51 coz your happiness means a lot for them\n52 they do but prime thing is they want you to be happy then your blessings\n53 they are just secret welwishers\n54 lot of people think about you to be honest\n55 bye gud night take care\n56 and sorry if any of my word felt bad or hurted you\n57 that's my suggestion to you\n58 it always help\n59 a new hobby\n60 pick a hobby babe\n61 the more you think about it the more it saddens you\n62 and if anybody can do it it's not even worth considering\n63 i know babe but if it was easy anybody could do it\n64 time will never heal everything if you keep the darkness only inside and keep hold of it leave all thoughts of your past and occupy yourself with something new and everything will automatically become fine but this will only happen if you want to heal yourself and remove all the negatives and past memories to let go from your mind and heart\n65 hey tumhara entrance clear ho gaya \n66 how was your day \n67 or may be songs\n68 well for that you got the solution too in my question\n69 in sexy imaginations or stress \n70 oh busy day han\n71 i can put my status to 'life of sakshi'\n72 and yeah one more thing\n73 ohk thanks for the help\n74 and if a deadly combo \n75 she looks super cute in any color so color is not a factor for her\n76 i have to gift one to someone\n77 which is good \n78 little help plz \n79 have a wonderful day\n"
    }
   ],
   "source": [
    "for i, x in enumerate(contents):\n",
    "    print(i, x)"
   ]
  },
  {
   "cell_type": "code",
   "execution_count": 6,
   "metadata": {},
   "outputs": [],
   "source": [
    "from collections import Counter"
   ]
  },
  {
   "cell_type": "code",
   "execution_count": 7,
   "metadata": {},
   "outputs": [],
   "source": [
    "all_words = [word for sent in contents for word in sent.split()]\n",
    "word_count = Counter(all_words)\n",
    "total = len(word_count)"
   ]
  },
  {
   "cell_type": "code",
   "execution_count": 8,
   "metadata": {},
   "outputs": [],
   "source": [
    "prob_dict = {}\n",
    "for word, count in word_count.items():\n",
    "    prob_dict[word] = count / total"
   ]
  },
  {
   "cell_type": "code",
   "execution_count": null,
   "metadata": {},
   "outputs": [],
   "source": []
  }
 ]
}